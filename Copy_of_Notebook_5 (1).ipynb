{
  "nbformat": 4,
  "nbformat_minor": 0,
  "metadata": {
    "kernelspec": {
      "display_name": "Python 3",
      "language": "python",
      "name": "python3"
    },
    "language_info": {
      "codemirror_mode": {
        "name": "ipython",
        "version": 3
      },
      "file_extension": ".py",
      "mimetype": "text/x-python",
      "name": "python",
      "nbconvert_exporter": "python",
      "pygments_lexer": "ipython3",
      "version": "3.7.3"
    },
    "colab": {
      "provenance": []
    }
  },
  "cells": [
    {
      "cell_type": "markdown",
      "metadata": {
        "id": "Gp2WddtV9IwG"
      },
      "source": [
        "# Programa Ingenias+ Data Science"
      ]
    },
    {
      "cell_type": "markdown",
      "source": [
        "alumna: Herrera M Candela"
      ],
      "metadata": {
        "id": "5efYpDlPFrX0"
      }
    },
    {
      "cell_type": "markdown",
      "metadata": {
        "id": "H4M1yVbf9IwH"
      },
      "source": [
        "Como dijimos en clases anteriores, Python tiene implementadas muchas librerias para poder trabajar con datos. En la clase de hoy trabajaremos con una de ellas: `Numpy`."
      ]
    },
    {
      "cell_type": "markdown",
      "metadata": {
        "id": "GdTT8WeL9IwI"
      },
      "source": [
        "Antes de comenzar, vamos a hablar un poco de esta libreria o modulo.\n",
        "\n",
        "**Numpy** es una librería optimizada para realizar cálculos numéricos con vectores y matrices. A diferencia de otros lenguajes de programación, Python no posee en su estructura central la figura de matrices. Eso quiere decir que para poder trabajar con esta estructura de datos deberiamos trabajar con listas de listas. NumPy introduce el concepto de arrays o matrices."
      ]
    },
    {
      "cell_type": "markdown",
      "metadata": {
        "id": "qWkq3EHK9IwK"
      },
      "source": [
        "Al ser de código abierto, `numpy` posee una documentación muy amplia que es **SIEMPRE RECOMENDABLE** consultar."
      ]
    },
    {
      "cell_type": "markdown",
      "metadata": {
        "id": "nxe3KLUO9IwL"
      },
      "source": [
        "- [Documentacion NumPy](https://devdocs.io/numpy/)"
      ]
    },
    {
      "cell_type": "markdown",
      "metadata": {
        "id": "l1Ay3nSs9IwN"
      },
      "source": [
        "## Clase 4: Introduccion a NumPy"
      ]
    },
    {
      "cell_type": "markdown",
      "metadata": {
        "id": "X03mviQS9IyL"
      },
      "source": [
        "# Ejercicios\n",
        "\n",
        "1. Crear un arreglo de ceros de longitud 12\n",
        "2. Crear un arreglo de longitud 10 con ceros en todas sus posiciones y un 10 en la posición número 5\n",
        "3. Crear un arreglo que tenga los números del 10 al 49\n",
        "4. Crear una arreglo 2d de shape (3, 3) que tenga los números del 0 al 8\n",
        "5. Crear un arreglo de números aleatorios de longitud 100 y obtener su media y varianza\n",
        "6. Calcular la media de un arreglo usando np.sum\n",
        "7. Calcular la varianza de un arreglo usando np.sum y np.mean\n",
        "8. Crear un array de números aleatorios usando np.random.randn.\n"
      ]
    },
    {
      "cell_type": "markdown",
      "source": [
        "# ejercicio 1"
      ],
      "metadata": {
        "id": "sbDB7KZ3FHmA"
      }
    },
    {
      "cell_type": "code",
      "metadata": {
        "id": "G0NMKT609IyM",
        "outputId": "20dfeeda-381b-4523-aebd-54331088f0fe",
        "colab": {
          "base_uri": "https://localhost:8080/"
        }
      },
      "source": [
        "#1.crear un arreglo de ceros de longitud 12\n",
        "import numpy as np\n",
        "arreglo = np.zeros(12)\n",
        "print(arreglo)"
      ],
      "execution_count": null,
      "outputs": [
        {
          "output_type": "stream",
          "name": "stdout",
          "text": [
            "[0. 0. 0. 0. 0. 0. 0. 0. 0. 0. 0. 0.]\n"
          ]
        }
      ]
    },
    {
      "cell_type": "markdown",
      "source": [
        "# ejercicio 2"
      ],
      "metadata": {
        "id": "1yGvykWSFOF6"
      }
    },
    {
      "cell_type": "code",
      "source": [
        "#2.crear un arreglo de longitud 10 con ceros en todas sus posiciones y un 10 en la posición número 5\n",
        "#crear una lista\n",
        "arreglo [0] * 10\n",
        "\n",
        "arreglo [4] = 10 #posición 5 = indice 4\n",
        "\n",
        "print(arreglo)"
      ],
      "metadata": {
        "id": "ZpcasKwjU6VM",
        "outputId": "a70b88f7-db72-4c77-e8be-bcef4af1f610",
        "colab": {
          "base_uri": "https://localhost:8080/"
        }
      },
      "execution_count": null,
      "outputs": [
        {
          "output_type": "stream",
          "name": "stdout",
          "text": [
            "[ 0.  0.  0.  0. 10.  0.  0.  0.  0.  0.  0.  0.]\n"
          ]
        }
      ]
    },
    {
      "cell_type": "markdown",
      "source": [
        "# ejercicio 3"
      ],
      "metadata": {
        "id": "30XiktrRFUIF"
      }
    },
    {
      "cell_type": "code",
      "source": [
        "#3.crear un arreglo que tenga los números de 10 al 49\n",
        "\n",
        "#listas\n",
        "arreglo = list(range(10,50))\n",
        "print(arreglo)"
      ],
      "metadata": {
        "id": "3bGAWL4LWc0T",
        "outputId": "f481e01e-2eb9-4f7f-b6f3-ed8f15ca4b2d",
        "colab": {
          "base_uri": "https://localhost:8080/"
        }
      },
      "execution_count": null,
      "outputs": [
        {
          "output_type": "stream",
          "name": "stdout",
          "text": [
            "[10, 11, 12, 13, 14, 15, 16, 17, 18, 19, 20, 21, 22, 23, 24, 25, 26, 27, 28, 29, 30, 31, 32, 33, 34, 35, 36, 37, 38, 39, 40, 41, 42, 43, 44, 45, 46, 47, 48, 49]\n"
          ]
        }
      ]
    },
    {
      "cell_type": "markdown",
      "source": [
        "# ejercicio 4"
      ],
      "metadata": {
        "id": "IYqIU86DFZAb"
      }
    },
    {
      "cell_type": "code",
      "source": [
        "#4.crear un arreglo 2d de shape (3.3) que tenga los números de 0 al 8\n",
        "\n",
        "#crear una lista\n",
        "arreglo = [[i * 3 + j for j in range(3)]for i in range(3)]\n",
        "print(arreglo)\n",
        "print(type(arreglo))\n",
        "\n",
        "#j * 3 + j - (i: fila, j:columna) en i:0 --> los números generados son: 0 * 3 + 0 = 0 // 0 * 3 + 1 = 1// y 0 * 3 + 2 = 2\n",
        "#en i:1 --> los números son: 1 * 3 + 0 = 3,1 * 3 + 1 = 4, y 1 * 3 + 2 = 5\n",
        "#en i:2 --> 2 * 3 + 0 = 6, 2 * 3 + 1 = 7, y 2 * 3 + 2 = 8\n"
      ],
      "metadata": {
        "id": "IB3hzXkYW0L-",
        "outputId": "da5023d2-558e-44c8-f819-51d9814cbc56",
        "colab": {
          "base_uri": "https://localhost:8080/"
        }
      },
      "execution_count": null,
      "outputs": [
        {
          "output_type": "stream",
          "name": "stdout",
          "text": [
            "[[0, 1, 2], [3, 4, 5], [6, 7, 8]]\n",
            "<class 'list'>\n"
          ]
        }
      ]
    },
    {
      "cell_type": "markdown",
      "source": [
        "# ejercicio 5"
      ],
      "metadata": {
        "id": "wScYddA1FdbF"
      }
    },
    {
      "cell_type": "code",
      "source": [
        "#5. crear un arreglo de números aleatorios de longitud 100 y obtener su media y su varianza\n",
        "\n",
        "#usando np\n",
        "import numpy as np\n",
        "\n",
        "arreglo = np.random.random(100)\n",
        "print(\"arreglo de números aleatorios\", arreglo)\n"
      ],
      "metadata": {
        "id": "gSZ6EDJ8Zw1t",
        "outputId": "b883ecff-feb1-436d-a2d9-00fcce9369dd",
        "colab": {
          "base_uri": "https://localhost:8080/"
        }
      },
      "execution_count": null,
      "outputs": [
        {
          "output_type": "stream",
          "name": "stdout",
          "text": [
            "arreglo de números aleatorios [0.04701433 0.01385137 0.95678374 0.21428322 0.95393421 0.38264346\n",
            " 0.84911843 0.92750416 0.96060974 0.50357147 0.28881957 0.72513796\n",
            " 0.61195492 0.58490134 0.03140323 0.11607681 0.95782461 0.12856993\n",
            " 0.33036864 0.18541041 0.60938351 0.16058003 0.50495951 0.53760591\n",
            " 0.57224583 0.40831273 0.7072515  0.8955116  0.80789058 0.45551062\n",
            " 0.45982022 0.84293328 0.35029443 0.03544247 0.45987358 0.21825167\n",
            " 0.20386348 0.28184031 0.40929308 0.31755386 0.58668967 0.01132563\n",
            " 0.03894596 0.18762889 0.39270448 0.50536239 0.18482989 0.39302026\n",
            " 0.59608005 0.3409429  0.38038388 0.38377757 0.26157532 0.58814377\n",
            " 0.7998876  0.20631873 0.27891583 0.68211449 0.35666635 0.28044146\n",
            " 0.20733177 0.76314459 0.66137847 0.06001252 0.23463561 0.48500549\n",
            " 0.88774656 0.55503718 0.15893527 0.30933919 0.53775051 0.57672702\n",
            " 0.23672837 0.36888966 0.61586268 0.99953732 0.40791034 0.81630425\n",
            " 0.59927984 0.37482106 0.0291312  0.30706541 0.75711747 0.71019755\n",
            " 0.95445649 0.65076304 0.10831642 0.43170106 0.70803527 0.34174221\n",
            " 0.40831609 0.61121139 0.71522667 0.36156972 0.15371551 0.00524822\n",
            " 0.97777711 0.82677607 0.07694742 0.87124013]\n"
          ]
        }
      ]
    },
    {
      "cell_type": "code",
      "source": [
        "#media\n",
        "media = np.mean(arreglo)\n",
        "print (\"media:\", media)"
      ],
      "metadata": {
        "id": "d4uetlPfAjCI",
        "outputId": "5676dfe5-9534-4df4-cb1e-31404ed845cc",
        "colab": {
          "base_uri": "https://localhost:8080/"
        }
      },
      "execution_count": null,
      "outputs": [
        {
          "output_type": "stream",
          "name": "stdout",
          "text": [
            "media: 0.4632688698799489\n"
          ]
        }
      ]
    },
    {
      "cell_type": "code",
      "source": [
        "#varianza\n",
        "varianza = np.var(arreglo),\n",
        "print(\"varianza:\", varianza)"
      ],
      "metadata": {
        "id": "D2rEEbGpA3ZN",
        "outputId": "a126d7d6-a521-4b04-c7a1-eab9a28e770a",
        "colab": {
          "base_uri": "https://localhost:8080/"
        }
      },
      "execution_count": null,
      "outputs": [
        {
          "output_type": "stream",
          "name": "stdout",
          "text": [
            "varianza: (0.0764697173037962,)\n"
          ]
        }
      ]
    },
    {
      "cell_type": "markdown",
      "source": [
        "# ejercicio 6"
      ],
      "metadata": {
        "id": "Fq4h3E9DFji1"
      }
    },
    {
      "cell_type": "code",
      "source": [
        "#6. Calcular la media de un arreglo usando np sum\n",
        "import numpy as np\n",
        "\n",
        "arreglo = np.random.random(100)\n",
        "\n",
        "suma = np.sum(arreglo) # np.sum\n",
        "tamano = np.size(arreglo) #size\n",
        "media = suma / tamano\n",
        "\n",
        "#ver el resultado\n",
        "print(\"media del arreglo:\", media)"
      ],
      "metadata": {
        "id": "7nLcPSFLBLF2",
        "outputId": "ecfbfc8f-9e57-4073-b7d2-cfd002146c9e",
        "colab": {
          "base_uri": "https://localhost:8080/"
        }
      },
      "execution_count": null,
      "outputs": [
        {
          "output_type": "stream",
          "name": "stdout",
          "text": [
            "media del arreglo: 0.49284898982709807\n"
          ]
        }
      ]
    },
    {
      "cell_type": "markdown",
      "source": [
        "# ejercicio 7"
      ],
      "metadata": {
        "id": "3Io7sxwmCGTo"
      }
    },
    {
      "cell_type": "code",
      "source": [
        "#7. Calcular la varianza de un arreglo usando np.sum y np.mean"
      ],
      "metadata": {
        "id": "JyDPVdOoCQHO"
      },
      "execution_count": null,
      "outputs": []
    },
    {
      "cell_type": "code",
      "source": [
        "import numpy as np\n",
        "\n",
        "arreglo = np.random.random(100)\n",
        "\n",
        "media = np.mean (arreglo)\n",
        "suma_cuadrados_diferencias = np.sum((arreglo - media)** 2)\n",
        "varianza = suma_cuadrados_diferencias / len(arreglo)\n",
        "\n",
        "print(\"varianza del arreglo:\", varianza)"
      ],
      "metadata": {
        "id": "ji7aqJ1ZCeNz",
        "outputId": "e03bda0c-d800-479e-dcfe-3446843fbb4f",
        "colab": {
          "base_uri": "https://localhost:8080/"
        }
      },
      "execution_count": null,
      "outputs": [
        {
          "output_type": "stream",
          "name": "stdout",
          "text": [
            "varianza del arreglo: 0.09141238270808323\n"
          ]
        }
      ]
    },
    {
      "cell_type": "markdown",
      "source": [
        "# ejercicio 8"
      ],
      "metadata": {
        "id": "hImI5DBiDVl7"
      }
    },
    {
      "cell_type": "code",
      "source": [
        "#8. Crear un array de números aleatorios usando np.random.randn."
      ],
      "metadata": {
        "id": "wekOarkCDaYS"
      },
      "execution_count": null,
      "outputs": []
    },
    {
      "cell_type": "code",
      "source": [
        "import numpy as np\n",
        "\n",
        "arreglo = np.random.randn(10)\n",
        "print(\"array unidemensional:\", arreglo)"
      ],
      "metadata": {
        "id": "33QzBDIeDnu0",
        "outputId": "ca099e8d-e574-4cd7-acee-ed829ab09357",
        "colab": {
          "base_uri": "https://localhost:8080/"
        }
      },
      "execution_count": null,
      "outputs": [
        {
          "output_type": "stream",
          "name": "stdout",
          "text": [
            "array unidemensional: [-0.24071807 -1.53234918  0.46913128 -1.19601013  1.60288603  0.01448631\n",
            " -0.34178847  1.07685038 -0.96047394  0.15966841]\n"
          ]
        }
      ]
    }
  ]
}